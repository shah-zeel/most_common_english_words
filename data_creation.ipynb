{
 "cells": [
  {
   "cell_type": "code",
   "execution_count": 8,
   "metadata": {},
   "outputs": [],
   "source": [
    "import pandas as pd\n",
    "\n",
    "# Read the text file into a DataFrame without specifying the index\n",
    "df = pd.read_csv('enable1.txt', header=None, names=['Word'])\n"
   ]
  },
  {
   "cell_type": "code",
   "execution_count": 9,
   "metadata": {},
   "outputs": [
    {
     "name": "stdout",
     "output_type": "stream",
     "text": [
      "           Value  Char Count\n",
      "Word                        \n",
      "aa             2           2\n",
      "aah           10           3\n",
      "aahed         19           5\n",
      "aahing        40           6\n",
      "aahs          29           4\n",
      "...          ...         ...\n",
      "zymotic      111           7\n",
      "zymurgies    143           9\n",
      "zymurgy      135           7\n",
      "zyzzyva      151           7\n",
      "zyzzyvas     170           8\n",
      "\n",
      "[172821 rows x 2 columns]\n"
     ]
    }
   ],
   "source": [
    "# Drop any rows with NaN values in the 'Word' column\n",
    "df = df.dropna(subset=['Word'])\n",
    "\n",
    "# Define a function to calculate the value of a word\n",
    "def calculate_value(word):\n",
    "    return sum(ord(char) - ord('a') + 1 for char in str(word).lower())\n",
    "\n",
    "# Create the \"Value\" column using the calculate_value function\n",
    "df['Value'] = df['Word'].map(calculate_value)\n",
    "\n",
    "# Create the \"Char Count\" column\n",
    "df['Char Count'] = df['Word'].apply(len)\n",
    "\n",
    "# Set the 'Word' column as the index\n",
    "df.set_index('Word', inplace=True)\n",
    "\n",
    "# Save the DataFrame to a new CSV file\n",
    "df.to_csv('your_output_file.csv')\n",
    "\n",
    "# Display the DataFrame (optional)\n",
    "print(df)\n"
   ]
  },
  {
   "cell_type": "code",
   "execution_count": null,
   "metadata": {},
   "outputs": [],
   "source": []
  }
 ],
 "metadata": {
  "kernelspec": {
   "display_name": "educative",
   "language": "python",
   "name": "python3"
  },
  "language_info": {
   "codemirror_mode": {
    "name": "ipython",
    "version": 3
   },
   "file_extension": ".py",
   "mimetype": "text/x-python",
   "name": "python",
   "nbconvert_exporter": "python",
   "pygments_lexer": "ipython3",
   "version": "3.12.0"
  }
 },
 "nbformat": 4,
 "nbformat_minor": 2
}
